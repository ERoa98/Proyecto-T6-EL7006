{
 "cells": [
  {
   "cell_type": "code",
   "execution_count": 1,
   "metadata": {},
   "outputs": [],
   "source": [
    "#imports \n",
    "import numpy as np\n",
    "import random\n",
    "import matplotlib.pyplot as plt\n",
    "import torch\n",
    "import torch.nn as nn"
   ]
  },
  {
   "cell_type": "code",
   "execution_count": 11,
   "metadata": {},
   "outputs": [
    {
     "name": "stdout",
     "output_type": "stream",
     "text": [
      "Estammos usando: cpu\n"
     ]
    }
   ],
   "source": [
    "if torch.cuda.is_available():\n",
    "    device = torch.device('cuda')\n",
    "else:\n",
    "    device = torch.device('cpu')\n",
    "print(f'Estammos usando: {device}')\n",
    "\n"
   ]
  },
  {
   "cell_type": "markdown",
   "metadata": {},
   "source": [
    "## Supernova parametric model (SPM)\n",
    "\n",
    "Existen 4 tipos de supernovas: SNIbc, SNIa, SNII, SLSN"
   ]
  },
  {
   "cell_type": "code",
   "execution_count": 2,
   "metadata": {},
   "outputs": [],
   "source": [
    "def SPM(t, A, t_0, t_1, B, t_rise, t_fall):\n",
    "    gamma = t_1 - t_0\n",
    "    s = 0.2\n",
    "    F = []\n",
    "    \n",
    "    for t_i in t:\n",
    "        # g(t)\n",
    "        arg = s*(t_i-(gamma+t_0))\n",
    "        g = 1/(1 + np.exp(- arg))\n",
    "        \n",
    "        # F_early and F_late\n",
    "        x_early = A*(1-B*((t_i-t_0)/gamma))\n",
    "        x_late = (A*(1-B)*np.exp(gamma/t_fall))\n",
    "        y = (1+np.exp(-(t_i-t_0)/t_rise))\n",
    "        \n",
    "        F_early = x_early/y\n",
    "        F_late = x_late/y\n",
    "        \n",
    "        #F_sne\n",
    "        F_i = F_early*(1-g) + F_late*g\n",
    "        F.append(F_i)\n",
    "        \n",
    "    return torch.FloatTensor(F)"
   ]
  },
  {
   "cell_type": "code",
   "execution_count": 3,
   "metadata": {},
   "outputs": [],
   "source": [
    "# parameters\n",
    "\n",
    "#Amplitud: cerca de 20\n",
    "#t0: timpo inicial\n",
    "#t_1: tiempo en que empieza a transisionar la SN\n",
    "#gamma: controls the time duration of the SN-plateau region\n",
    "#beta: controls the slope of the SN-plateau region (pendiente)\n",
    "#t_rise: controls the required time to reach the maximum brightness along the light-curve\n",
    "#t_fall: controls the brightness decay time along and after the SN-plateau region\n",
    "\n",
    "A = 50\n",
    "t_0 = 58600\n",
    "t_1 = 58640\n",
    "B = 0.8\n",
    "t_rise = 25\n",
    "t_fall = 50\n"
   ]
  },
  {
   "cell_type": "code",
   "execution_count": 12,
   "metadata": {},
   "outputs": [
    {
     "name": "stdout",
     "output_type": "stream",
     "text": [
      "100\n"
     ]
    },
    {
     "data": {
      "image/png": "[encoded data removed]",
      "text/plain": [
       "<Figure size 432x288 with 1 Axes>"
      ]
     },
     "metadata": {
      "needs_background": "light"
     },
     "output_type": "display_data"
    }
   ],
   "source": [
    "t = np.linspace(58600,58700,100)\n",
    "F = SPM(t, A, t_0, t_1, B, t_rise, t_fall)\n",
    "print(len(F))\n",
    "\n",
    "plt.plot(t, F, 'o')\n",
    "plt.title(\"Sinthetic SN Light Curve\")\n",
    "plt.xlabel(\"MJD\")\n",
    "plt.ylabel(\"Magnitud\")\n",
    "plt.ylim(max(F),min(F))\n",
    "plt.show()"
   ]
  },
  {
   "cell_type": "code",
   "execution_count": 17,
   "metadata": {},
   "outputs": [
    {
     "data": {
      "text/plain": [
       "torch.Size([128])"
      ]
     },
     "execution_count": 17,
     "metadata": {},
     "output_type": "execute_result"
    }
   ],
   "source": [
    "x = np.log(F)\n",
    "W_1 = nn.Linear(len(x), 128, bias = False)\n",
    "\n",
    "W_1(x).size()\n"
   ]
  },
  {
   "cell_type": "markdown",
   "metadata": {},
   "source": [
    "## Create Minibatches"
   ]
  },
  {
   "cell_type": "code",
   "execution_count": 8,
   "metadata": {},
   "outputs": [],
   "source": [
    "def create_minibatches(x, y, mb_size, shuffle = True):\n",
    "    '''\n",
    "    x  #muestras, 784\n",
    "    y #muestras, 1\n",
    "    '''\n",
    "    assert x.shape[0] == y.shape[0], 'Error en cantidad de muestras'\n",
    "    total_data = x.shape[0]\n",
    "    if shuffle: \n",
    "        idxs = np.arange(total_data)\n",
    "        np.random.shuffle(idxs)\n",
    "        x = x[idxs]\n",
    "        y = y[idxs]  \n",
    "    return ((x[i:i+mb_size], y[i:i+mb_size]) for i in range(0, total_data, mb_size))"
   ]
  },
  {
   "cell_type": "markdown",
   "metadata": {},
   "source": [
    "## Accuracy"
   ]
  },
  {
   "cell_type": "code",
   "execution_count": 9,
   "metadata": {},
   "outputs": [],
   "source": [
    "def accuracy(model, x, y, mb_size):\n",
    "    num_correct = 0\n",
    "    num_total = 0\n",
    "    model.eval()\n",
    "    model = model.to(device=device)\n",
    "    with torch.no_grad():\n",
    "        for (xi, yi) in create_minibatches(x, y, mb_size):\n",
    "            xi = xi.to(device=device, dtype = torch.float32)\n",
    "            yi = yi.to(device=device, dtype = torch.long)\n",
    "            scores = model(xi) # mb_size, 10\n",
    "            _, pred = scores.max(dim=1) #pred shape (mb_size )\n",
    "            num_correct += (pred == yi.squeeze()).sum() # pred shape (mb_size), yi shape (mb_size, 1)\n",
    "            num_total += pred.size(0)\n",
    "\n",
    "            return float(num_correct)/num_total     "
   ]
  },
  {
   "cell_type": "markdown",
   "metadata": {},
   "source": [
    "## Training Loop"
   ]
  },
  {
   "cell_type": "code",
   "execution_count": 10,
   "metadata": {},
   "outputs": [],
   "source": [
    "def train(model, optimiser, mb_size, epochs=100):\n",
    "    #model = model.to(device=device)\n",
    "    for epoch in range(epochs):\n",
    "        for (xi, yi) in create_minibatches(x_train_tensor, y_train_tensor, mb_size):\n",
    "            model.train()\n",
    "            xi = xi.to(device=device, dtype=torch.float32)\n",
    "            yi = yi.to(device=device, dtype=torch.long)\n",
    "            scores = model(xi)\n",
    "            # funcion cost\n",
    "            cost = F.cross_entropy(input= scores, target=yi.squeeze())\n",
    "            optimiser.zero_grad()\n",
    "            cost.backward()\n",
    "            optimiser.step()\n",
    "            \n",
    "        print(f'Epoch: {epoch}, costo: {cost.item()}, accuracy: {accuracy(model, x_val_tensor, y_val_tensor, mb_size)}')"
   ]
  },
  {
   "cell_type": "code",
   "execution_count": 23,
   "metadata": {},
   "outputs": [
    {
     "data": {
      "text/plain": [
       "tensor([[-0.2256,  2.8188,  0.6179, -0.1532,  0.1235,  0.5674,  2.5628,  0.3329,\n",
       "          0.1541,  0.4232, -1.2192,  0.0239,  0.4308,  0.1289, -0.1680, -1.0334,\n",
       "         -0.0432, -0.2275,  1.0634,  0.4170, -0.4445, -1.0166, -0.8077, -0.8633,\n",
       "         -0.5319, -0.4032,  0.4792, -3.8854],\n",
       "        [-0.2213,  0.0317, -1.0151, -1.2007,  0.7171, -0.6053,  0.1991, -1.7216,\n",
       "         -1.0401, -1.7839,  1.3698,  1.3650,  1.2147, -1.1951,  0.3211,  0.8493,\n",
       "         -0.2478,  0.4440,  0.8346, -1.2845, -2.4780, -0.2601,  3.0309,  0.2398,\n",
       "          1.3373, -0.5441,  0.3223, -0.2757],\n",
       "        [ 0.2700, -0.0576,  0.5524,  0.8057, -0.1558,  0.1135,  0.0772, -0.4102,\n",
       "          1.2137, -0.6619, -0.4821,  0.5611,  1.1236, -1.3540, -0.0053, -0.3551,\n",
       "         -0.3989,  1.0333, -1.5751,  0.6884, -0.5721,  0.5360, -2.4673, -0.1842,\n",
       "          0.7127,  1.2115,  0.5168, -0.1205],\n",
       "        [ 0.0196, -0.8997, -2.1792,  0.3257,  0.3281,  0.7582,  0.0124, -0.7458,\n",
       "          3.5758,  0.3145, -2.0412, -1.1988,  1.1486, -1.6126,  0.3696,  0.7647,\n",
       "          0.1808,  0.9476,  1.2111, -0.0608, -0.7089,  1.0558, -0.6529,  0.3422,\n",
       "          0.4460, -0.5842, -0.3867,  1.6010]])"
      ]
     },
     "execution_count": 23,
     "metadata": {},
     "output_type": "execute_result"
    }
   ],
   "source": [
    "a = torch.randn(4, 28)\n",
    "a"
   ]
  },
  {
   "cell_type": "markdown",
   "metadata": {},
   "source": [
    "## Custom Layer"
   ]
  },
  {
   "cell_type": "code",
   "execution_count": 20,
   "metadata": {},
   "outputs": [],
   "source": [
    "class TimeFILM(nn.Module):\n",
    "    def __init__(self, size_in, M, t): #size_in sería 128 o L x 128????\n",
    "        super().__init__()\n",
    "        self.size_in= size_in\n",
    "        self.t = t\n",
    "        self.M = M\n",
    "        T = torch.Tensor(size_in)\n",
    "        a = torch.Tensor(M, size_in)\n",
    "        b = torch.Tensor(M, size_in)\n",
    "        v = torch.Tensor(M, size_in)\n",
    "        w = torch.Tensor(M, size_in)\n",
    "        self.a = nn.Parameter(a)  # nn.Parameter is a Tensor that's a module parameter.\n",
    "        self.b = nn.Parameter(b)\n",
    "        self.v = nn.Parameter(v)\n",
    "        self.w = nn.Parameter(w)\n",
    "     \n",
    "        \n",
    "        # initialize weights and biases\n",
    "        torch.nn.init.normal_(self.a, mean=0.0, std=1.0)\n",
    "        torch.nn.init.normal_(self.b, mean=0.0, std=1.0)\n",
    "        torch.nn.init.normal_(self.v, mean=0.0, std=1.0)\n",
    "        torch.nn.init.normal_(self.w, mean=0.0, std=1.0)\n",
    "        \n",
    "        \n",
    "    def forward(self, x):\n",
    "        gamma = torch.sum(self.a*torch.sin((2*torch.pi*self.M)*self.T/(1.5*self.t)) + self.b*torch.cos((2*torch.pi*self.M)*self.T/(1.5*self.t)), 1)\n",
    "        beta =  torch.sum(self.v*torch.sin((2*torch.pi*self.M)*self.T/(1.5*self.t)) + self.w*torch.cos((2*torch.pi*self.M)*self.T/(1.5*self.t)), 1)\n",
    "            \n",
    "        x_out = torch.nn.Tanh(gamma * x + beta)\n",
    "        return x_out\n",
    "\n"
   ]
  },
  {
   "cell_type": "markdown",
   "metadata": {},
   "source": [
    "## Serial Encoder"
   ]
  },
  {
   "cell_type": "code",
   "execution_count": null,
   "metadata": {},
   "outputs": [],
   "source": [
    "#Instanciar modelo\n",
    "size_in = 128 \n",
    "M = 4\n",
    "L = 100\n",
    "lr = 5e-2\n",
    "epochs = 100\n",
    "mb_size = 4096\n",
    "model1 = nn.Sequential(nn.Linear(in_features=L, out_features=size_in),\n",
    "                       TimeFILM(size_in, M, L),\n",
    "                       nn.Linear(in_features=, out_features=), nn.ReLU(),\n",
    "                       nn.MultiheadAttention(embed_dim, num_heads), # No sabemos bien las dimensiones de embed_dim (son Lx128??)\n",
    "                       ##falta la capa en que se saca el ultimo vector z (como se podría implementar??)\n",
    "                      )\n",
    "                       \n",
    "                       \n",
    "optimiser = torch.optim.SGD(model1.parameters(), lr=lr)\n",
    "train(model1, optimiser, mb_size, epochs)"
   ]
  },
  {
   "cell_type": "code",
   "execution_count": null,
   "metadata": {},
   "outputs": [],
   "source": []
  }
 ],
 "metadata": {
  "kernelspec": {
   "display_name": "Python 3",
   "language": "python",
   "name": "python3"
  },
  "language_info": {
   "codemirror_mode": {
    "name": "ipython",
    "version": 3
   },
   "file_extension": ".py",
   "mimetype": "text/x-python",
   "name": "python",
   "nbconvert_exporter": "python",
   "pygments_lexer": "ipython3",
   "version": "3.8.10"
  }
 },
 "nbformat": 4,
 "nbformat_minor": 4
}
