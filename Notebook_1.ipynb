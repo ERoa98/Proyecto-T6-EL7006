{
 "cells": [
  {
   "cell_type": "code",
   "execution_count": 162,
   "metadata": {},
   "outputs": [],
   "source": [
    "#imports \n",
    "import numpy as np\n",
    "import random\n",
    "import matplotlib.pyplot as plt"
   ]
  },
  {
   "cell_type": "code",
   "execution_count": 88,
   "metadata": {},
   "outputs": [
    {
     "name": "stdout",
     "output_type": "stream",
     "text": [
      "[array([3.17805383, 0.        , 1.        ]), array([3.98898405, 0.        , 1.        ]), array([3.49650756, 0.        , 1.        ]), array([4.18965474, 0.        , 1.        ]), array([1.09861229, 0.        , 1.        ]), array([4.44265126, 0.        , 1.        ]), array([3.91202301, 0.        , 1.        ]), array([3.55534806, 0.        , 1.        ]), array([4.55387689, 0.        , 1.        ]), array([4.02535169, 0.        , 1.        ]), array([4.35670883, 0.        , 1.        ]), array([3.78418963, 0.        , 1.        ]), array([3.36729583, 0.        , 1.        ]), array([4.4308168, 0.       , 1.       ]), array([4.58496748, 0.        , 1.        ]), array([4.09434456, 0.        , 1.        ]), array([4.33073334, 0.        , 1.        ]), array([4.27666612, 0.        , 1.        ]), array([4.47733681, 0.        , 1.        ]), array([3.17805383, 0.        , 1.        ]), array([3.36729583, 0.        , 1.        ]), array([4.51085951, 0.        , 1.        ]), array([3.8286414, 0.       , 1.       ]), array([2.7080502, 0.       , 1.       ]), array([4.48863637, 0.        , 1.        ]), array([4.59511985, 0.        , 1.        ]), array([3.33220451, 0.        , 1.        ]), array([4.31748811, 0.        , 1.        ]), array([3.29583687, 0.        , 1.        ]), array([4.49980967, 0.        , 1.        ]), array([3.93182563, 0.        , 1.        ]), array([4.02535169, 0.        , 1.        ]), array([4.53259949, 0.        , 1.        ]), array([3.93182563, 0.        , 1.        ]), array([3.25809654, 0.        , 1.        ]), array([3.80666249, 0.        , 1.        ])]\n"
     ]
    }
   ],
   "source": [
    "#serial enconder\n",
    "\n",
    "one_hot_g = [1,0]\n",
    "one_hot_r = [0,1]\n",
    "\n",
    "for i in range(1):\n",
    "    LC_i = LC[i]\n",
    "    encoder_input= []\n",
    "    band_concat= []\n",
    "    for j in range(len(LC_i['time'])):\n",
    "        u_i = LC_i['flux']\n",
    "        log_u_i_j = np.array(np.log(u_i[j]))\n",
    "        if LC_i['banda'] == 1:\n",
    "            band_concat_j=np.append(log_u_i_j, one_hot_g)\n",
    "        else:\n",
    "            band_concat_j=np.append(log_u_i_j, one_hot_r)\n",
    "        band_concat.append(band_concat_j)\n",
    "    print(band_concat)"
   ]
  },
  {
   "cell_type": "markdown",
   "metadata": {},
   "source": [
    "## Supernova parametric model (SPM)\n",
    "\n",
    "Existen 4 tipos de supernovas: SNIbc, SNIa, SNII, SLSN"
   ]
  },
  {
   "cell_type": "code",
   "execution_count": 165,
   "metadata": {},
   "outputs": [],
   "source": [
    "def SPM(t, A, t_0, t_1, B, t_rise, t_fall):\n",
    "    gamma = t_1 - t_0\n",
    "    s = 0.2\n",
    "    F = []\n",
    "    \n",
    "    for t_i in t:\n",
    "        # g(t)\n",
    "        arg = s*(t_i-(gamma+t_0))\n",
    "        g = 1/(1 + np.exp(- arg))\n",
    "        \n",
    "        # F_early and F_late\n",
    "        x_early = A*(1-B*((t_i-t_0)/gamma))\n",
    "        x_late = (A*(1-B)*np.exp(gamma/t_fall))\n",
    "        y = (1+np.exp(-(t_i-t_0)/t_rise))\n",
    "        \n",
    "        F_early = x_early/y\n",
    "        F_late = x_late/y\n",
    "        \n",
    "        #F_sne\n",
    "        F_i = F_early*(1-g) + F_late*g\n",
    "        F.append(F_i)\n",
    "        \n",
    "    return F"
   ]
  },
  {
   "cell_type": "code",
   "execution_count": 168,
   "metadata": {},
   "outputs": [],
   "source": [
    "# parameters\n",
    "\n",
    "#Amplitud: cerca de 20\n",
    "#t0: timpo inicial\n",
    "#t_1: tiempo en que empieza a transisionar la SN\n",
    "#gamma: controls the time duration of the SN-plateau region\n",
    "#beta: controls the slope of the SN-plateau region (pendiente)\n",
    "#t_rise: controls the required time to reach the maximum brightness along the light-curve\n",
    "#t_fall: controls the brightness decay time along and after the SN-plateau region\n",
    "\n",
    "A = 50\n",
    "t_0 = 58600\n",
    "t_1 = 58640\n",
    "B = 0.7\n",
    "t_rise = 25\n",
    "t_fall = 60\n"
   ]
  },
  {
   "cell_type": "code",
   "execution_count": 169,
   "metadata": {},
   "outputs": [
    {
     "name": "stdout",
     "output_type": "stream",
     "text": [
      "100\n"
     ]
    },
    {
     "data": {
      "image/png": "[encoded data removed]",
      "text/plain": [
       "<Figure size 432x288 with 1 Axes>"
      ]
     },
     "metadata": {
      "needs_background": "light"
     },
     "output_type": "display_data"
    }
   ],
   "source": [
    "t = np.linspace(58600,58700,100)\n",
    "F = SPM(t, A, t_0, t_1, B, t_rise, t_fall)\n",
    "print(len(F))\n",
    "\n",
    "plt.plot(t, F, 'o')\n",
    "plt.title(\"Sinthetic SN Light Curve\")\n",
    "plt.xlabel(\"MJD\")\n",
    "plt.ylabel(\"Magnitud\")\n",
    "plt.ylim(max(F),min(F))\n",
    "plt.show()"
   ]
  },
  {
   "cell_type": "markdown",
   "metadata": {},
   "source": [
    "## Serial Encoder"
   ]
  },
  {
   "cell_type": "code",
   "execution_count": null,
   "metadata": {},
   "outputs": [],
   "source": [
    "# Temporal Modulation\n",
    "\n",
    "\n",
    "\n",
    "\n",
    "\n"
   ]
  },
  {
   "cell_type": "code",
   "execution_count": null,
   "metadata": {},
   "outputs": [],
   "source": [
    "import torch\n",
    "import torch.nn as nn\n",
    "\n",
    "class SelfAttention(nn.Module):\n",
    "    def __init__(self, embed_size, heads):\n",
    "        super(SelfAttention, slef).__init__()\n",
    "        self.embed_size = embed_size\n",
    "        self.heads = heads\n",
    "        self.head_dim = embed_size // heads\n",
    "        \n",
    "        assert (self.head_dim * heads == embed_size), \"Embed size needs to be div by heads\"\n",
    "        \n",
    "        self.values = nn.Linear(self.head_dim, self.head_dim, bias=False)\n",
    "        self.keys = nn.Linear(self.head_dim, self.head_dim, bias=False)\n",
    "        self.queries = nn.Linear(self.head_dim, self.head_dim, bias=False)\n",
    "        self.fc_out = nn.Linear(heads*self.head_dim, embed_size, bias=False)\n",
    "        "
   ]
  }
 ],
 "metadata": {
  "kernelspec": {
   "display_name": "Python 3",
   "language": "python",
   "name": "python3"
  },
  "language_info": {
   "codemirror_mode": {
    "name": "ipython",
    "version": 3
   },
   "file_extension": ".py",
   "mimetype": "text/x-python",
   "name": "python",
   "nbconvert_exporter": "python",
   "pygments_lexer": "ipython3",
   "version": "3.8.10"
  }
 },
 "nbformat": 4,
 "nbformat_minor": 4
}
