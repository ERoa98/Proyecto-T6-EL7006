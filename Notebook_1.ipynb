{
 "cells": [
  {
   "cell_type": "code",
   "execution_count": 72,
   "metadata": {},
   "outputs": [],
   "source": [
    "#imports \n",
    "import numpy as np\n",
    "import random\n",
    "import matplotlib.pyplot as plt"
   ]
  },
  {
   "cell_type": "code",
   "execution_count": 2,
   "metadata": {},
   "outputs": [
    {
     "data": {
      "text/plain": [
       "[7, 0, 12, 8, 1, 9, 4, 5, 2, 6]"
      ]
     },
     "execution_count": 2,
     "metadata": {},
     "output_type": "execute_result"
    }
   ],
   "source": [
    "np.random.randint(10,20)\n",
    "random.sample(range(13), 10)"
   ]
  },
  {
   "cell_type": "code",
   "execution_count": 4,
   "metadata": {},
   "outputs": [
    {
     "name": "stdout",
     "output_type": "stream",
     "text": [
      "L_i:  43\n",
      "t_i_j:  [ 0  1  2  3  4  5  6  7  8  9 10 11 12 13 14 15 16 17 18 19 20 21 22 23\n",
      " 24 25 26 27 28 29 30 31 32 33 34 35 36 37 38 39 40 41 42]\n",
      "u:  [83 28 17 20 48 95 29 94 30 87 70 45 65 62 72 96 37 48 87 96 53 56 54 25\n",
      " 54 74 94 73 96  6 13 98 46 37 62 69  6 76 39  1 97 28 52]\n",
      "p_u:  [66 42 26 98 77 46 55 91 65 15 21 92 32 49 60 43  8  8 45 84  3 57 61  4\n",
      "  3 11 84 41 59 58 12 13 25 91 89 88  4 25 92 94 92  2 37]\n",
      "b:  1\n"
     ]
    }
   ],
   "source": [
    "LC = []\n",
    "for i in range(1):\n",
    "    L_i = np.random.randint(20, 50)\n",
    "    print('L_i: ', L_i)\n",
    "\n",
    "    t_i = np.sort(random.sample(range(L_i), L_i))\n",
    "    print('t_i_j: ', t_i)\n",
    "    \n",
    "    u = np.random.randint(1,100, size = L_i)\n",
    "    print('u: ', u)\n",
    "    p_u = np.random.randint(100, size= L_i)\n",
    "    print('p_u: ',p_u)\n",
    "    \n",
    "    b = np.random.randint(2)\n",
    "    print('b: ',b)\n",
    "    \n",
    "    LC_i = {'flux': u,'error-flux': p_u,'time': t_i,'banda': b}\n",
    "    LC.append(LC_i)\n"
   ]
  },
  {
   "cell_type": "code",
   "execution_count": 5,
   "metadata": {},
   "outputs": [
    {
     "data": {
      "text/plain": [
       "[{'flux': array([83, 28, 17, 20, 48, 95, 29, 94, 30, 87, 70, 45, 65, 62, 72, 96, 37,\n",
       "         48, 87, 96, 53, 56, 54, 25, 54, 74, 94, 73, 96,  6, 13, 98, 46, 37,\n",
       "         62, 69,  6, 76, 39,  1, 97, 28, 52]),\n",
       "  'error-flux': array([66, 42, 26, 98, 77, 46, 55, 91, 65, 15, 21, 92, 32, 49, 60, 43,  8,\n",
       "          8, 45, 84,  3, 57, 61,  4,  3, 11, 84, 41, 59, 58, 12, 13, 25, 91,\n",
       "         89, 88,  4, 25, 92, 94, 92,  2, 37]),\n",
       "  'time': array([ 0,  1,  2,  3,  4,  5,  6,  7,  8,  9, 10, 11, 12, 13, 14, 15, 16,\n",
       "         17, 18, 19, 20, 21, 22, 23, 24, 25, 26, 27, 28, 29, 30, 31, 32, 33,\n",
       "         34, 35, 36, 37, 38, 39, 40, 41, 42]),\n",
       "  'banda': 1}]"
      ]
     },
     "execution_count": 5,
     "metadata": {},
     "output_type": "execute_result"
    }
   ],
   "source": [
    "LC"
   ]
  },
  {
   "cell_type": "code",
   "execution_count": 184,
   "metadata": {},
   "outputs": [
    {
     "data": {
      "text/plain": [
       "array([23, 15, 13, 81, 14, 75, 46, 95, 13, 90, 38, 74, 62, 88,  8, 70, 93,\n",
       "       34, 86, 83, 88, 62, 62, 65,  3, 56, 20, 78, 99, 62, 18, 50, 77, 78,\n",
       "       29, 64, 70, 63, 44, 22, 98])"
      ]
     },
     "execution_count": 184,
     "metadata": {},
     "output_type": "execute_result"
    }
   ],
   "source": [
    "LC[1]['flux']"
   ]
  },
  {
   "cell_type": "code",
   "execution_count": 187,
   "metadata": {},
   "outputs": [
    {
     "name": "stdout",
     "output_type": "stream",
     "text": [
      "[array([4.12713439, 0.        , 1.        ]), array([3.21887582, 0.        , 1.        ]), array([3.13549422, 0.        , 1.        ]), array([1.79175947, 0.        , 1.        ]), array([3.87120101, 0.        , 1.        ]), array([4.11087386, 0.        , 1.        ]), array([3.49650756, 0.        , 1.        ]), array([4.38202663, 0.        , 1.        ]), array([3.78418963, 0.        , 1.        ]), array([3.49650756, 0.        , 1.        ]), array([4.34380542, 0.        , 1.        ]), array([3.80666249, 0.        , 1.        ]), array([1.38629436, 0.        , 1.        ]), array([4.17438727, 0.        , 1.        ]), array([3.76120012, 0.        , 1.        ]), array([4.38202663, 0.        , 1.        ]), array([1.09861229, 0.        , 1.        ]), array([4.41884061, 0.        , 1.        ]), array([3.73766962, 0.        , 1.        ]), array([4.33073334, 0.        , 1.        ]), array([3.4339872, 0.       , 1.       ]), array([3.4339872, 0.       , 1.       ]), array([4.38202663, 0.        , 1.        ]), array([2.48490665, 0.        , 1.        ]), array([2.89037176, 0.        , 1.        ]), array([3.63758616, 0.        , 1.        ]), array([4.44265126, 0.        , 1.        ]), array([4.02535169, 0.        , 1.        ]), array([4.41884061, 0.        , 1.        ]), array([1.94591015, 0.        , 1.        ])]\n"
     ]
    }
   ],
   "source": [
    "#serial enconder\n",
    "\n",
    "one_hot_g = [1,0]\n",
    "one_hot_r = [0,1]\n",
    "\n",
    "for i in range(1):\n",
    "    LC_i = LC[i]\n",
    "    encoder_input= []\n",
    "    band_concat= []\n",
    "    for j in range(len(LC_i['time'])):\n",
    "        u_i = LC_i['flux']\n",
    "        log_u_i_j = np.array(np.log(u_i[j]))\n",
    "        if LC_i['banda'] == 1:\n",
    "            band_concat_j=np.append(log_u_i_j, one_hot_g)\n",
    "        else:\n",
    "            band_concat_j=np.append(log_u_i_j, one_hot_r)\n",
    "        band_concat.append(band_concat_j)\n",
    "    print(band_concat)"
   ]
  },
  {
   "cell_type": "markdown",
   "metadata": {},
   "source": [
    "## Supernova parametric model (SPM)\n",
    "\n",
    "Existen 4 tipos de supernovas: SNIbc, SNIa, SNII, SLSN"
   ]
  },
  {
   "cell_type": "code",
   "execution_count": 54,
   "metadata": {},
   "outputs": [],
   "source": [
    "# parameters\n",
    "\n",
    "#Amplitud: cerca de 20\n",
    "A = 20\n",
    "\n",
    "#t0\n",
    "t_0 = 58640 \n",
    "\n",
    "#t_1\n",
    "t_1 = 58670 \n",
    "\n",
    "#gamma: controls the time duration of the SN-plateau region\n",
    "gamma = t_1-t_0\n",
    "\n",
    "#beta: controls the slope of the SN-plateau region\n",
    "B = 0.5\n",
    "\n",
    "#t_rise: controls the required time to reach the maximum brightness along the light-curve\n",
    "t_rise = 25\n",
    "\n",
    "#t_fall: controls the brightness decay time along and after the SN-plateau region\n",
    "t_fall = 40\n"
   ]
  },
  {
   "cell_type": "code",
   "execution_count": 55,
   "metadata": {},
   "outputs": [
    {
     "data": {
      "text/plain": [
       "[1]"
      ]
     },
     "execution_count": 55,
     "metadata": {},
     "output_type": "execute_result"
    }
   ],
   "source": [
    "F=[]\n",
    "\n",
    "F.append(1)\n",
    "\n",
    "F"
   ]
  },
  {
   "cell_type": "code",
   "execution_count": 78,
   "metadata": {},
   "outputs": [],
   "source": [
    "def sigmoid(t):\n",
    "    return 1/(1 + exp(−t))\n",
    "\n",
    "def SPM(t, A, t_0, t_1, B, t_rise, t_fall):\n",
    "    gamma = t_1 - t_0\n",
    "    F = []\n",
    "    for t_i in t:\n",
    "        if t_i >= t_1:\n",
    "            x = (A*(1-B)*np.exp(gamma/t_fall))\n",
    "            y = (1+np.exp(-(t_i-t_0)/t_rise))\n",
    "            F_i = x/y\n",
    "        else:\n",
    "            x = A*(1-B*((t_i-t_0)/gamma))\n",
    "            y = (1+np.exp(-(t_i-t_0)/t_rise))\n",
    "            F_i = x/y\n",
    "        F.append(F_i)\n",
    "    return F"
   ]
  },
  {
   "cell_type": "code",
   "execution_count": 79,
   "metadata": {},
   "outputs": [
    {
     "name": "stdout",
     "output_type": "stream",
     "text": [
      "100\n"
     ]
    },
    {
     "data": {
      "image/png": "[encoded data removed]",
      "text/plain": [
       "<Figure size 432x288 with 1 Axes>"
      ]
     },
     "metadata": {
      "needs_background": "light"
     },
     "output_type": "display_data"
    }
   ],
   "source": [
    "t = np.linspace(58600,58700,100)\n",
    "F = SPM(t, A, t_0, t_1, B, t_rise, t_fall)\n",
    "print(len(F))\n",
    "\n",
    "plt.plot(t, F, 'o')\n",
    "plt.show()"
   ]
  },
  {
   "cell_type": "code",
   "execution_count": null,
   "metadata": {},
   "outputs": [],
   "source": []
  },
  {
   "cell_type": "code",
   "execution_count": null,
   "metadata": {},
   "outputs": [],
   "source": []
  },
  {
   "cell_type": "code",
   "execution_count": null,
   "metadata": {},
   "outputs": [],
   "source": []
  }
 ],
 "metadata": {
  "kernelspec": {
   "display_name": "Python 3",
   "language": "python",
   "name": "python3"
  },
  "language_info": {
   "codemirror_mode": {
    "name": "ipython",
    "version": 3
   },
   "file_extension": ".py",
   "mimetype": "text/x-python",
   "name": "python",
   "nbconvert_exporter": "python",
   "pygments_lexer": "ipython3",
   "version": "3.8.10"
  }
 },
 "nbformat": 4,
 "nbformat_minor": 4
}
